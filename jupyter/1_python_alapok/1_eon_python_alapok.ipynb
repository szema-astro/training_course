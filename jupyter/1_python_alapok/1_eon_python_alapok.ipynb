{
 "cells": [
  {
   "cell_type": "code",
   "execution_count": 1,
   "id": "6a1e2353",
   "metadata": {},
   "outputs": [
    {
     "data": {
      "text/plain": [
       "sys.version_info(major=3, minor=9, micro=19, releaselevel='final', serial=0)"
      ]
     },
     "execution_count": 1,
     "metadata": {},
     "output_type": "execute_result"
    }
   ],
   "source": [
    "# Hogyan tudom megnézni, melyik Python verzió fut a gépemen?\n",
    "\n",
    "import sys\n",
    "sys.version_info"
   ]
  },
  {
   "cell_type": "markdown",
   "id": "16794790",
   "metadata": {},
   "source": [
    "\n",
    "# I. Python alapok\n",
    "# I.1. Alapinformációk a kód szerkesztéséről\n"
   ]
  },
  {
   "cell_type": "code",
   "execution_count": null,
   "id": "d5d58080",
   "metadata": {},
   "outputs": [],
   "source": [
    "# Így irjuk a kommentet: # valami"
   ]
  },
  {
   "cell_type": "code",
   "execution_count": null,
   "id": "67652702",
   "metadata": {},
   "outputs": [],
   "source": [
    "# ez egy kommen, ahol a cella típusa Code"
   ]
  },
  {
   "cell_type": "markdown",
   "id": "babbed2c",
   "metadata": {},
   "source": [
    "Egy parancsasornak több tipusa lehet, a \"Cell/Cell Type\" menüpontban lehet váltotatni a parancssor (cella) típusát. \n",
    "Az '1. Alapinformációk' cella típusa \"Markdown\". \n",
    "A fenti formátumot úgy érjük el, hogy a cella típusát \"Markdown\"-ra állítjuk, és kommentként (# kezdjük a sort) írjuk be\n",
    "az \"1. Alapinformációk\" szöveget, majd a SHIFT_ENTER megnyomása után a fenti formátumban jelenik meg a szöveg"
   ]
  },
  {
   "cell_type": "markdown",
   "id": "5b940a24",
   "metadata": {},
   "source": [
    "Ha egy Python utasásra, függvéynre rámegyünk a kurzorral és a SHIFT-TAB kombinációt megnyomjuk, akkor részletes leírást kapunk az utasításról, függvényfről"
   ]
  },
  {
   "cell_type": "code",
   "execution_count": null,
   "id": "6ebd0f26",
   "metadata": {},
   "outputs": [],
   "source": [
    "print"
   ]
  },
  {
   "cell_type": "markdown",
   "id": "41937c1e",
   "metadata": {},
   "source": [
    "Gépelés rövidítható, ha elkezdünk egy Python utasítást, függvényt vagy egy változó nevét begépelni, és néhány karakter után megnyomjuk a TAB gombot, akkor vagy befejezi a gépelést (ha egyértelmű mit akartunk írni) vagy felkínálja a lehetőségeket, amik a prefix alapján szóba jöhetnek utasítások, függvények, változók"
   ]
  },
  {
   "cell_type": "code",
   "execution_count": null,
   "id": "67d8d3e5",
   "metadata": {},
   "outputs": [],
   "source": [
    "pr"
   ]
  },
  {
   "cell_type": "markdown",
   "id": "44cc852c",
   "metadata": {},
   "source": [
    "SHIFT-ENTER az ami futtatja a kis blokkot"
   ]
  },
  {
   "cell_type": "markdown",
   "id": "5fe0b5d7",
   "metadata": {},
   "source": [
    "# I.2. Adattípusok Python-ban"
   ]
  },
  {
   "cell_type": "code",
   "execution_count": null,
   "id": "28d35cfc",
   "metadata": {},
   "outputs": [],
   "source": [
    "x = 10"
   ]
  },
  {
   "cell_type": "code",
   "execution_count": null,
   "id": "34f21ccb",
   "metadata": {},
   "outputs": [],
   "source": [
    "type(x)"
   ]
  },
  {
   "cell_type": "code",
   "execution_count": null,
   "id": "107eb98f",
   "metadata": {},
   "outputs": [],
   "source": [
    "x = 10.1"
   ]
  },
  {
   "cell_type": "code",
   "execution_count": null,
   "id": "d460580d",
   "metadata": {},
   "outputs": [],
   "source": [
    "type(x)"
   ]
  },
  {
   "cell_type": "code",
   "execution_count": null,
   "id": "c7caa2ef",
   "metadata": {},
   "outputs": [],
   "source": [
    "x = \"Első Python órám\""
   ]
  },
  {
   "cell_type": "code",
   "execution_count": null,
   "id": "90a654a0",
   "metadata": {},
   "outputs": [],
   "source": [
    "type(x)"
   ]
  },
  {
   "cell_type": "code",
   "execution_count": null,
   "id": "991864c6",
   "metadata": {},
   "outputs": [],
   "source": [
    "x = \"2023-10-01\""
   ]
  },
  {
   "cell_type": "code",
   "execution_count": null,
   "id": "d7f912c0",
   "metadata": {},
   "outputs": [],
   "source": [
    "type(x)"
   ]
  },
  {
   "cell_type": "code",
   "execution_count": null,
   "id": "1fa3a7cd",
   "metadata": {},
   "outputs": [],
   "source": [
    "x = True"
   ]
  },
  {
   "cell_type": "code",
   "execution_count": null,
   "id": "f17b317c",
   "metadata": {},
   "outputs": [],
   "source": [
    "type(x)"
   ]
  },
  {
   "cell_type": "code",
   "execution_count": null,
   "id": "d08af7de",
   "metadata": {},
   "outputs": [],
   "source": [
    "y = 10"
   ]
  },
  {
   "cell_type": "code",
   "execution_count": null,
   "id": "1dab8044",
   "metadata": {},
   "outputs": [],
   "source": [
    "# bool és int szerepelhet matematikai műveletben, ilyenkor\n",
    "# True 1-ét értéknek számít, False 0-nak\n",
    "\n",
    "z = x + y"
   ]
  },
  {
   "cell_type": "code",
   "execution_count": null,
   "id": "8e0b7886",
   "metadata": {},
   "outputs": [],
   "source": [
    "z"
   ]
  },
  {
   "cell_type": "code",
   "execution_count": null,
   "id": "6bbb9f5b",
   "metadata": {},
   "outputs": [],
   "source": [
    "y = \"Python\""
   ]
  },
  {
   "cell_type": "code",
   "execution_count": null,
   "id": "86e69dc8",
   "metadata": {},
   "outputs": [],
   "source": [
    "z = x + y"
   ]
  },
  {
   "cell_type": "code",
   "execution_count": null,
   "id": "afb71fb6",
   "metadata": {},
   "outputs": [],
   "source": [
    "# DE egy string szorozható integerrel!\n",
    "\n",
    "x = \"Python\"\n",
    "x * 3 "
   ]
  },
  {
   "cell_type": "code",
   "execution_count": null,
   "id": "7091d5e6",
   "metadata": {},
   "outputs": [],
   "source": [
    "x = \"4\""
   ]
  },
  {
   "cell_type": "code",
   "execution_count": null,
   "id": "61430aea",
   "metadata": {},
   "outputs": [],
   "source": [
    "x, y, z"
   ]
  },
  {
   "cell_type": "code",
   "execution_count": null,
   "id": "baa69c67",
   "metadata": {},
   "outputs": [],
   "source": [
    "z = str(z)"
   ]
  },
  {
   "cell_type": "code",
   "execution_count": null,
   "id": "006d34cd",
   "metadata": {},
   "outputs": [],
   "source": [
    "x, y, z"
   ]
  },
  {
   "cell_type": "code",
   "execution_count": null,
   "id": "ebf974a1",
   "metadata": {},
   "outputs": [],
   "source": [
    "z = int(z)"
   ]
  },
  {
   "cell_type": "code",
   "execution_count": null,
   "id": "8e33a855",
   "metadata": {},
   "outputs": [],
   "source": [
    "x, y, z"
   ]
  },
  {
   "cell_type": "code",
   "execution_count": null,
   "id": "8de08e4d",
   "metadata": {},
   "outputs": [],
   "source": [
    "int(\"Python\")"
   ]
  },
  {
   "cell_type": "code",
   "execution_count": null,
   "id": "a876b542",
   "metadata": {},
   "outputs": [],
   "source": [
    "x = bool(z)"
   ]
  },
  {
   "cell_type": "code",
   "execution_count": null,
   "id": "b73ef32b",
   "metadata": {},
   "outputs": [],
   "source": [
    "x, y, z"
   ]
  },
  {
   "cell_type": "code",
   "execution_count": null,
   "id": "7a2dc493",
   "metadata": {},
   "outputs": [],
   "source": [
    "w = int(y)"
   ]
  },
  {
   "cell_type": "code",
   "execution_count": null,
   "id": "1a662a47",
   "metadata": {},
   "outputs": [],
   "source": [
    "w = int(x)"
   ]
  },
  {
   "cell_type": "code",
   "execution_count": null,
   "id": "d095dbcc",
   "metadata": {},
   "outputs": [],
   "source": [
    "int(bool(11))"
   ]
  },
  {
   "cell_type": "code",
   "execution_count": null,
   "id": "da2a9baf",
   "metadata": {},
   "outputs": [],
   "source": [
    "x, y, z, w"
   ]
  },
  {
   "cell_type": "code",
   "execution_count": null,
   "id": "7c9a38b2",
   "metadata": {},
   "outputs": [],
   "source": [
    "# Lebegő pontos számokat a round() függvénnyel tudunk kerekíteni\n",
    "\n",
    "x = 4.22345\n",
    "x = round(4.22345, 2)\n",
    "x"
   ]
  },
  {
   "cell_type": "code",
   "execution_count": null,
   "id": "747b1437",
   "metadata": {},
   "outputs": [],
   "source": [
    "# Kerekítés után elveszítjük a levágott értékeket\n",
    "\n",
    "x = round(x, 4)\n",
    "x"
   ]
  },
  {
   "cell_type": "markdown",
   "id": "309057cb",
   "metadata": {},
   "source": [
    "Bool értéket logaikai operátorokkal is el tudunk érni.   \n",
    "\"a ==b \"  esetén True értéket kapunk, két érték megegyezik, False különben   \n",
    "\"a!= b\"   esetén True értéket kapunk, két érték nem egyezik meg, False különben   \n",
    "\"a > b\"   esetén True értéket kapunk, két a nagyobb mint b, False különben   \n",
    "\"a >= b\"  esetén True értéket kapunk, két a nagyobb vagy egyenlő mint b, False különben   "
   ]
  },
  {
   "cell_type": "code",
   "execution_count": null,
   "id": "83172ae2",
   "metadata": {},
   "outputs": [],
   "source": [
    "\n",
    "x = 5\n",
    "y = 7\n",
    "\n",
    "b = 5 == 7\n",
    "b"
   ]
  },
  {
   "cell_type": "code",
   "execution_count": null,
   "id": "ef17a2b3",
   "metadata": {},
   "outputs": [],
   "source": [
    "b = 5 != 7\n",
    "b"
   ]
  },
  {
   "cell_type": "code",
   "execution_count": null,
   "id": "7c709aa3",
   "metadata": {},
   "outputs": [],
   "source": [
    "b = 5 >= 7\n",
    "b"
   ]
  },
  {
   "cell_type": "markdown",
   "id": "64f52703",
   "metadata": {},
   "source": [
    "String esetében az \"in\" függvényt használjuk leggyakrabban  \n",
    "\"a in b\", esetén True értéket kapunk, két a részsztringje b, False különben"
   ]
  },
  {
   "cell_type": "code",
   "execution_count": null,
   "id": "be0e6d2e",
   "metadata": {},
   "outputs": [],
   "source": [
    "a= \"alma\"\n",
    "b = \"ma\"\n",
    "\n",
    "b in a"
   ]
  },
  {
   "cell_type": "markdown",
   "id": "5da3afb6",
   "metadata": {},
   "source": [
    "Fontosabb konvertáló függvények   \n",
    "int()          egész számra alakítja az adott értéket, amennyiben tudja   \n",
    "float()        lebegő pontos alakítja   \n",
    "str()          string formátumar hozza   \n",
    "bool()         boolen formátumra hozza    "
   ]
  },
  {
   "cell_type": "code",
   "execution_count": null,
   "id": "2a3ff856",
   "metadata": {},
   "outputs": [],
   "source": [
    "int(b)"
   ]
  },
  {
   "cell_type": "markdown",
   "id": "3fcc46b5",
   "metadata": {},
   "source": [
    "Érdekes utasítások:   \n",
    "+=  \n",
    "-=  \n",
    "*=  \n",
    "/=  "
   ]
  },
  {
   "cell_type": "code",
   "execution_count": null,
   "id": "58dd287b",
   "metadata": {},
   "outputs": [],
   "source": [
    "x = 1\n",
    "x += 1 # x = x + 1\n",
    "x"
   ]
  },
  {
   "cell_type": "code",
   "execution_count": null,
   "id": "3db14582",
   "metadata": {},
   "outputs": [],
   "source": [
    "x *= 2\n",
    "x"
   ]
  },
  {
   "cell_type": "code",
   "execution_count": null,
   "id": "904507d4",
   "metadata": {},
   "outputs": [],
   "source": [
    "x /= 2\n",
    "x"
   ]
  },
  {
   "cell_type": "markdown",
   "id": "e395a8af",
   "metadata": {},
   "source": [
    "Alap Python nem ismeri a Dátum adattipust. Ehhez importálni kell a datetime csomagot"
   ]
  },
  {
   "cell_type": "code",
   "execution_count": null,
   "id": "b3a16bcc",
   "metadata": {},
   "outputs": [],
   "source": [
    "import datetime"
   ]
  },
  {
   "cell_type": "code",
   "execution_count": null,
   "id": "1bda956b",
   "metadata": {},
   "outputs": [],
   "source": [
    "x = datetime.datetime(2020, 5, 17)"
   ]
  },
  {
   "cell_type": "code",
   "execution_count": null,
   "id": "45eaef0e",
   "metadata": {},
   "outputs": [],
   "source": [
    "x "
   ]
  },
  {
   "cell_type": "code",
   "execution_count": null,
   "id": "f95eab98",
   "metadata": {},
   "outputs": [],
   "source": [
    "type(x)"
   ]
  },
  {
   "cell_type": "code",
   "execution_count": null,
   "id": "0a6750b1",
   "metadata": {},
   "outputs": [],
   "source": [
    "now_date = datetime.datetime.now()\n",
    "now_date"
   ]
  },
  {
   "cell_type": "markdown",
   "id": "df4890be",
   "metadata": {},
   "source": [
    "A datetime változókban tárolt dátumok megjelenítésnek formázását a strftime függvénnyel tudjuk beállítani"
   ]
  },
  {
   "cell_type": "code",
   "execution_count": null,
   "id": "5812dfcc",
   "metadata": {},
   "outputs": [],
   "source": [
    "# '2020-05-17'  formátum\n",
    "\n",
    "now_date.strftime(\"%Y-%m-%d\")"
   ]
  },
  {
   "cell_type": "code",
   "execution_count": null,
   "id": "3b6c47a7",
   "metadata": {},
   "outputs": [],
   "source": [
    "# '2020-05-17 00:00'\n",
    "\n",
    "now_date.strftime(\"%Y-%m-%d %H:%M\")"
   ]
  },
  {
   "cell_type": "code",
   "execution_count": null,
   "id": "36066d9c",
   "metadata": {},
   "outputs": [],
   "source": [
    "# Csak a perc és másodpercű\n",
    "\n",
    "now_date.strftime(\"%M:%S\")"
   ]
  },
  {
   "cell_type": "code",
   "execution_count": null,
   "id": "9c17368c",
   "metadata": {},
   "outputs": [],
   "source": [
    "x.strftime(\"%Y-%m-%d %H:%M\")"
   ]
  },
  {
   "cell_type": "code",
   "execution_count": null,
   "id": "26368a51",
   "metadata": {},
   "outputs": [],
   "source": [
    "# String átlakítása dátum típusra\n",
    "\n",
    "from datetime import datetime\n",
    "x = datetime.strptime(\"2020-02-02\", '%Y-%d-%m').date()\n",
    "x"
   ]
  },
  {
   "cell_type": "markdown",
   "id": "e8178ffb",
   "metadata": {},
   "source": [
    "# I.3. Sztringek és reguláris kifejezése"
   ]
  },
  {
   "cell_type": "code",
   "execution_count": null,
   "id": "00b59d82",
   "metadata": {},
   "outputs": [],
   "source": [
    "print(\"Hello Python!!!\")"
   ]
  },
  {
   "cell_type": "code",
   "execution_count": null,
   "id": "3e30b7a0",
   "metadata": {},
   "outputs": [],
   "source": [
    "x = \"Hello Python!\""
   ]
  },
  {
   "cell_type": "code",
   "execution_count": null,
   "id": "ba598d8f",
   "metadata": {},
   "outputs": [],
   "source": [
    "print(x)"
   ]
  },
  {
   "cell_type": "code",
   "execution_count": null,
   "id": "4cf3ee2e",
   "metadata": {},
   "outputs": [],
   "source": [
    "y = 15"
   ]
  },
  {
   "cell_type": "code",
   "execution_count": null,
   "id": "56f3f78d",
   "metadata": {},
   "outputs": [],
   "source": [
    "print(\"Az első megoldás:\", y)"
   ]
  },
  {
   "cell_type": "markdown",
   "id": "4555d0ce",
   "metadata": {},
   "source": [
    "Az f-string segítségével a stringen belül hivatkozhatunk egy változóra   \n",
    "A formátum: f\"\", és a változóra az alábbi módon tudnk hivatkozni: {változó_neve}"
   ]
  },
  {
   "cell_type": "code",
   "execution_count": null,
   "id": "90ead86d",
   "metadata": {},
   "outputs": [],
   "source": [
    "\n",
    "print(f\"A második megoldás: {y}\")"
   ]
  },
  {
   "cell_type": "code",
   "execution_count": null,
   "id": "d534175a",
   "metadata": {},
   "outputs": [],
   "source": [
    "# Két sztring összeadás\n",
    "\n",
    "x = \"Első\"\n",
    "y = \"Második\"\n",
    "z = x + y\n",
    "print(x, y, \"összeadás után:\", z)"
   ]
  },
  {
   "cell_type": "code",
   "execution_count": null,
   "id": "ec7e11bb",
   "metadata": {},
   "outputs": [],
   "source": [
    "# Stringeknek nincs különbsége\n",
    "\n",
    "z = x - y"
   ]
  },
  {
   "cell_type": "code",
   "execution_count": null,
   "id": "13083a70",
   "metadata": {},
   "outputs": [],
   "source": [
    "# String karaktereire index-el tudunk hivatkozni. \n",
    "# Nem felejtsük el, hogy a Python az index-ek MINDIG 0-val kezdődnek!!!!\n",
    "\n",
    "x[0], x[1] "
   ]
  },
  {
   "cell_type": "code",
   "execution_count": null,
   "id": "7c59d33c",
   "metadata": {},
   "outputs": [],
   "source": [
    "# Stringek (és más adattipusok) hosszát a len() függvénnyel tudjuk lekérdezni\n",
    "\n",
    "len(x)"
   ]
  },
  {
   "cell_type": "code",
   "execution_count": null,
   "id": "829cba63",
   "metadata": {},
   "outputs": [],
   "source": [
    "# Ha négy hosszú egy string, az utolsó karakter indexe nem 4, hanem 3!!!!\n",
    "\n",
    "x[4]"
   ]
  },
  {
   "cell_type": "code",
   "execution_count": null,
   "id": "d37888c1",
   "metadata": {},
   "outputs": [],
   "source": [
    "# Utolsó karakterre kétféleképpen is hivatkozhatunk\n",
    "\n",
    "print(\"Utolsó karakter, a len() függvény segítségével:\", x[len(x)-1])\n",
    "print(\"Utolsó karakter a -1 hivatkozással: \", x[-1])"
   ]
  },
  {
   "cell_type": "code",
   "execution_count": null,
   "id": "4fff81ab",
   "metadata": {},
   "outputs": [],
   "source": [
    "# Részsztringeket is index-el tudunk előállítani. Az index-ek közé \":\" jelet kell tenni"
   ]
  },
  {
   "cell_type": "code",
   "execution_count": null,
   "id": "92357449",
   "metadata": {},
   "outputs": [],
   "source": [
    "x = \"Ez egy hosszú szöveg\"\n",
    "len(x)"
   ]
  },
  {
   "cell_type": "code",
   "execution_count": null,
   "id": "5fc1055f",
   "metadata": {},
   "outputs": [],
   "source": [
    "# [0:5] indexelés esetén 0,1,2,3,4 karakterből áll a részsztring. \n",
    "# x[5]-i kkarakter (\"y\") nem kerül bele az x[0:5] részsztring-be\n",
    "# ha az első karaktertől szeretnénk a részsztringet, akkor az x[0:5] helyett az x[:5] is ugyanazt adja\n",
    "\n",
    "print(x[0:5])\n",
    "print(x[0], x[1], x[2], x[3], x[4], x[5])\n",
    "print(x[:5])"
   ]
  },
  {
   "cell_type": "code",
   "execution_count": null,
   "id": "6dba7541",
   "metadata": {},
   "outputs": [],
   "source": [
    "print(x[4:5])"
   ]
  },
  {
   "cell_type": "code",
   "execution_count": null,
   "id": "6100372b",
   "metadata": {},
   "outputs": [],
   "source": [
    "x[21]"
   ]
  },
  {
   "cell_type": "code",
   "execution_count": null,
   "id": "f1aa5e65",
   "metadata": {},
   "outputs": [],
   "source": [
    "# Ha szöveg utolsó 5 karakterét akarjuk megjeleníteni, akkor az x[-5:-1] nem működik, \n",
    "# mert az x[-1] karakter nem kerül be a részsztringe \n",
    "# Helyett a x[-5:] indexelést, kell használni\n",
    "\n",
    "print(\"Utolsó karakter lemarad: \",x[-5:-1])\n",
    "print(\"Utolsó karakter is bekerül: \",x[-5:])"
   ]
  },
  {
   "cell_type": "code",
   "execution_count": null,
   "id": "495a7457",
   "metadata": {},
   "outputs": [],
   "source": [
    "# Ha tabulátorokat akarunk a szövegek között, akkor a {text:{szőköz_szám}} formátumut tudjuk használni\n",
    "print(f'{\"alma\":{10}} {\"körte\":{10}} {\"banán\":{10}}')"
   ]
  },
  {
   "cell_type": "code",
   "execution_count": null,
   "id": "c5ed47df",
   "metadata": {},
   "outputs": [],
   "source": [
    "# Ha jobbra akarjuk helyezni a szöveget és a szőköz helyett pontokat szeretnénk megjeleníteni, \n",
    "# akkor a .>{szám} formátumot hazsnáljuk \n",
    "\n",
    "print(f'{\"alma\":{10}} {\"körte\":{10}} {\"banán\":.>{10}}')"
   ]
  },
  {
   "cell_type": "markdown",
   "id": "e555957f",
   "metadata": {},
   "source": [
    "# I.4. Reguláris kifejezések"
   ]
  },
  {
   "cell_type": "code",
   "execution_count": null,
   "id": "2582b585",
   "metadata": {},
   "outputs": [],
   "source": [
    "import re"
   ]
  },
  {
   "cell_type": "code",
   "execution_count": null,
   "id": "4ce18155",
   "metadata": {},
   "outputs": [],
   "source": [
    "text = \"The agent's phone number is 408-555-1234. Call soon!\""
   ]
  },
  {
   "cell_type": "code",
   "execution_count": null,
   "id": "125d966f",
   "metadata": {},
   "outputs": [],
   "source": [
    "'phone' in text"
   ]
  },
  {
   "cell_type": "code",
   "execution_count": null,
   "id": "9d3e330a",
   "metadata": {},
   "outputs": [],
   "source": [
    "pattern = 'phone'"
   ]
  },
  {
   "cell_type": "code",
   "execution_count": null,
   "id": "c27ed43d",
   "metadata": {},
   "outputs": [],
   "source": [
    "re.search(pattern,text)"
   ]
  },
  {
   "cell_type": "code",
   "execution_count": null,
   "id": "f3c4bb10",
   "metadata": {},
   "outputs": [],
   "source": [
    "match = re.search(pattern,text)"
   ]
  },
  {
   "cell_type": "code",
   "execution_count": null,
   "id": "d04c0d4e",
   "metadata": {},
   "outputs": [],
   "source": [
    "match"
   ]
  },
  {
   "cell_type": "code",
   "execution_count": null,
   "id": "141875c6",
   "metadata": {},
   "outputs": [],
   "source": [
    "match.span()"
   ]
  },
  {
   "cell_type": "code",
   "execution_count": null,
   "id": "ebe1e13d",
   "metadata": {},
   "outputs": [],
   "source": [
    "match.start()"
   ]
  },
  {
   "cell_type": "code",
   "execution_count": null,
   "id": "621ed843",
   "metadata": {},
   "outputs": [],
   "source": [
    "matches = re.findall(\"phone\",text)"
   ]
  },
  {
   "cell_type": "code",
   "execution_count": null,
   "id": "c192c42e",
   "metadata": {},
   "outputs": [],
   "source": [
    "matches"
   ]
  },
  {
   "cell_type": "markdown",
   "id": "f3623358",
   "metadata": {},
   "source": [
    "<table ><tr><th>Character</th><th>Description</th><th>Example Pattern Code</th><th >Exammple Match</th></tr>\n",
    "\n",
    "<tr ><td><span >\\d</span></td><td>A digit</td><td>file_\\d\\d</td><td>file_25</td></tr>\n",
    "\n",
    "<tr ><td><span >\\w</span></td><td>Alphanumeric</td><td>\\w-\\w\\w\\w</td><td>A-b_1</td></tr>\n",
    "\n",
    "\n",
    "\n",
    "<tr ><td><span >\\s</span></td><td>White space</td><td>a\\sb\\sc</td><td>a b c</td></tr>\n",
    "\n",
    "\n",
    "\n",
    "<tr ><td><span >\\D</span></td><td>A non digit</td><td>\\D\\D\\D</td><td>ABC</td></tr>\n",
    "\n",
    "<tr ><td><span >\\W</span></td><td>Non-alphanumeric</td><td>\\W\\W\\W\\W\\W</td><td>*-+=)</td></tr>\n",
    "\n",
    "<tr ><td><span >\\S</span></td><td>Non-whitespace</td><td>\\S\\S\\S\\S</td><td>Yoyo</td></tr></table>"
   ]
  },
  {
   "cell_type": "code",
   "execution_count": null,
   "id": "3a774a91",
   "metadata": {},
   "outputs": [],
   "source": [
    "text = \"My telephone number is 408-555-1234\""
   ]
  },
  {
   "cell_type": "code",
   "execution_count": null,
   "id": "90785b69",
   "metadata": {},
   "outputs": [],
   "source": [
    "phone = re.search(r'\\d\\d\\d-\\d\\d\\d-\\d\\d\\d\\d',text)"
   ]
  },
  {
   "cell_type": "code",
   "execution_count": null,
   "id": "93d3da7b",
   "metadata": {},
   "outputs": [],
   "source": [
    "phone.group()"
   ]
  },
  {
   "cell_type": "markdown",
   "id": "c66f801e",
   "metadata": {},
   "source": [
    "<table ><tr><th>Character</th><th>Description</th><th>Example Pattern Code</th><th >Exammple Match</th></tr>\n",
    "\n",
    "<tr ><td><span >+</span></td><td>Occurs one or more times</td><td>\tVersion \\w-\\w+</td><td>Version A-b1_1</td></tr>\n",
    "\n",
    "<tr ><td><span >{3}</span></td><td>Occurs exactly 3 times</td><td>\\D{3}</td><td>abc</td></tr>\n",
    "\n",
    "\n",
    "\n",
    "<tr ><td><span >{2,4}</span></td><td>Occurs 2 to 4 times</td><td>\\d{2,4}</td><td>123</td></tr>\n",
    "\n",
    "\n",
    "\n",
    "<tr ><td><span >{3,}</span></td><td>Occurs 3 or more</td><td>\\w{3,}</td><td>anycharacters</td></tr>\n",
    "\n",
    "<tr ><td><span >\\*</span></td><td>Occurs zero or more times</td><td>A\\*B\\*C*</td><td>AAACC</td></tr>\n",
    "\n",
    "<tr ><td><span >?</span></td><td>Once or none</td><td>plurals?</td><td>plural</td></tr></table>"
   ]
  },
  {
   "cell_type": "code",
   "execution_count": null,
   "id": "97c358e3",
   "metadata": {},
   "outputs": [],
   "source": [
    "# egy példa\n",
    "re.search(r'\\d{3}-\\d{3}-\\d{4}',text)"
   ]
  },
  {
   "cell_type": "code",
   "execution_count": null,
   "id": "26ba7bfe",
   "metadata": {},
   "outputs": [],
   "source": [
    "# or itt is műküdik\n",
    "re.search(r\"man|woman\",\"This man was here.\")"
   ]
  },
  {
   "cell_type": "markdown",
   "id": "8d9f8c99",
   "metadata": {},
   "source": [
    "# I.4. list és tuple adatstuktúrák"
   ]
  },
  {
   "cell_type": "code",
   "execution_count": null,
   "id": "0d153b0c",
   "metadata": {},
   "outputs": [],
   "source": [
    "# list és tuple adatstruktúrában eltérő tipusú változók tárolhatók\n",
    "\n",
    "my_list = [1, \"python\", True]\n",
    "my_tuple = (1, \"python\", True)"
   ]
  },
  {
   "cell_type": "code",
   "execution_count": null,
   "id": "8eea7cde",
   "metadata": {},
   "outputs": [],
   "source": [
    "# A tuple értékei nem változtathatók, míg a list értékei igen.\n",
    "# A tuple legnagyobb előnye, hogy lényegesen kisebb helyen tárolja az adatokat, és épp ezért\n",
    "# a lekérdezések gyorsabbak a tuple esetében\n",
    "# Azonban list vagy tuple struktúrában tárolt adatok mennyisége a gyakorlatban olyan kicsi, hogy list adattípus \n",
    "# ezen hátránya elhanyagolható. \n",
    "\n",
    "my_list.__sizeof__(), my_tuple.__sizeof__()"
   ]
  },
  {
   "cell_type": "code",
   "execution_count": null,
   "id": "0486ee56",
   "metadata": {},
   "outputs": [],
   "source": [
    "my_tuple2 = 1, \"python\", True\n",
    "my_tuple2"
   ]
  },
  {
   "cell_type": "code",
   "execution_count": null,
   "id": "00996c1a",
   "metadata": {},
   "outputs": [],
   "source": [
    "print(my_list)\n",
    "print(my_tuple)"
   ]
  },
  {
   "cell_type": "code",
   "execution_count": null,
   "id": "bc899041",
   "metadata": {},
   "outputs": [],
   "source": [
    "my_list[0], my_list[1], my_list[-2]"
   ]
  },
  {
   "cell_type": "code",
   "execution_count": null,
   "id": "e422445f",
   "metadata": {},
   "outputs": [],
   "source": [
    "# ha változókat \",\" egymás mellé írunk, akkor is tuple adatstruktúrát kapunk\n",
    "\n",
    "a = my_list[0], my_list[1], my_list[-1]\n",
    "\n",
    "print(a)\n",
    "type(a)"
   ]
  },
  {
   "cell_type": "code",
   "execution_count": null,
   "id": "71fd8303",
   "metadata": {},
   "outputs": [],
   "source": [
    "my_list[0], my_list[0:1]\n",
    "type(my_list[0]), type(my_list[0:1])"
   ]
  },
  {
   "cell_type": "code",
   "execution_count": null,
   "id": "82c56544",
   "metadata": {},
   "outputs": [],
   "source": [
    "# Ha a list egy elemére hivatkozunk [szám], akkor az adott elem tipusának megfelelő objektumot kapunk eredményül\n",
    "# Ha a lista részére [szám1:szám2] hivatkozunk, akkor egy list tipusú objektumot kapunk eredményül\n",
    "# Ugyanez igaz a tuple esetében\n",
    "\n",
    "type(my_list[0]), type( my_list[0:1])"
   ]
  },
  {
   "cell_type": "code",
   "execution_count": null,
   "id": "ab237de1",
   "metadata": {},
   "outputs": [],
   "source": [
    "type(my_tuple[0]), type( my_tuple[0:1])"
   ]
  },
  {
   "cell_type": "code",
   "execution_count": null,
   "id": "896515e5",
   "metadata": {},
   "outputs": [],
   "source": [
    "# list objektum változtatható, bővíthető és törtölhető"
   ]
  },
  {
   "cell_type": "code",
   "execution_count": null,
   "id": "87ecf27f",
   "metadata": {},
   "outputs": [],
   "source": [
    "my_fruit_list = [\"körte\", \"alma\", \"szilva\"]\n",
    "my_fruit_list"
   ]
  },
  {
   "cell_type": "code",
   "execution_count": null,
   "id": "31a31c21",
   "metadata": {},
   "outputs": [],
   "source": [
    "# Egy listához append függvénnyel tudunk új elemet tenni\n",
    "# Fontos: my_fruit_list = my_fruit_list.append(\"banán\") utasítás után egy NoneType típusú objektummá alakul a my_fruit_list\n",
    "# változó\n",
    "\n",
    "my_fruit_list.append(\"banán\")\n",
    "my_fruit_list"
   ]
  },
  {
   "cell_type": "code",
   "execution_count": null,
   "id": "43c0afcd",
   "metadata": {},
   "outputs": [],
   "source": [
    "my_fruit_list = my_fruit_list.append(\"dió\") # !!!!!!! TILOS\n",
    "my_fruit_list, type(my_fruit_list)"
   ]
  },
  {
   "cell_type": "code",
   "execution_count": null,
   "id": "29e9f340",
   "metadata": {},
   "outputs": [],
   "source": [
    "# List bővítése így nem működik:\n",
    "\n",
    "my_fruit_list = [\"körte\", \"alma\", \"szilva\"]\n",
    "my_fruit_list = my_fruit_list + \"banán\""
   ]
  },
  {
   "cell_type": "code",
   "execution_count": null,
   "id": "2cd80cbd",
   "metadata": {},
   "outputs": [],
   "source": [
    "# De mivel listák egymáshoz fűzhetők az alábbi utasítás működik\n",
    "# Két lista össze főzése: lista = lista1 + lista2\n",
    "\n",
    "my_fruit_list = my_fruit_list + [\"banán\"]\n",
    "my_fruit_list"
   ]
  },
  {
   "cell_type": "code",
   "execution_count": null,
   "id": "14d3597e",
   "metadata": {},
   "outputs": [],
   "source": [
    "# Itt is működik a sztringhez hasonlóam egy lista többszörözlse\n",
    "\n",
    "my_fruit_list2 = my_fruit_list * 2 \n",
    "my_fruit_list2"
   ]
  },
  {
   "cell_type": "code",
   "execution_count": null,
   "id": "9b3ee002",
   "metadata": {},
   "outputs": [],
   "source": [
    "# Listából remove() és pop() függvénnyel lehet elemet törölni\n",
    "# remove() esetén megmondjuk melyik elemet akarjuk törölni\n",
    "# pop() esetén azt az indexet adjuk meg, amelyik helyen lévő szeretnénk törölni\n",
    "\n",
    "my_fruit_list2.remove(\"banán\")\n",
    "my_fruit_list2"
   ]
  },
  {
   "cell_type": "code",
   "execution_count": null,
   "id": "018f944c",
   "metadata": {},
   "outputs": [],
   "source": [
    "# Törlésnél mindig az adott érték első előfordulása törlődik\n",
    "\n",
    "my_fruit_list2.remove(\"banán\")\n",
    "my_fruit_list2"
   ]
  },
  {
   "cell_type": "code",
   "execution_count": null,
   "id": "a8c1e513",
   "metadata": {},
   "outputs": [],
   "source": [
    "my_fruit_list2[3] = \"dió\"\n",
    "my_fruit_list2[4] = \"narancs\"\n",
    "my_fruit_list2[5] = \"eper\"\n",
    "my_fruit_list2"
   ]
  },
  {
   "cell_type": "code",
   "execution_count": null,
   "id": "e5e5609e",
   "metadata": {},
   "outputs": [],
   "source": [
    "my_fruit_list2.pop(2)"
   ]
  },
  {
   "cell_type": "code",
   "execution_count": null,
   "id": "44ee88c7",
   "metadata": {},
   "outputs": [],
   "source": [
    "my_fruit_list2"
   ]
  },
  {
   "cell_type": "code",
   "execution_count": null,
   "id": "3cc8a22b",
   "metadata": {},
   "outputs": [],
   "source": [
    "# tuple esetében nem tudunk törölni, hozzáadni a listáhot, és értéket megváltoztatni\n",
    "\n",
    "my_tuple[0] = \"alma\""
   ]
  },
  {
   "cell_type": "code",
   "execution_count": null,
   "id": "8cb4ec1b",
   "metadata": {},
   "outputs": [],
   "source": [
    "# Itt is len függvénnyel tudjuk menézni a list objektum hosszát\n",
    "\n",
    "len(my_fruit_list2)"
   ]
  },
  {
   "cell_type": "code",
   "execution_count": null,
   "id": "9de294b5",
   "metadata": {},
   "outputs": [],
   "source": [
    "[\"alma\", \"dió\"] in my_fruit_list2"
   ]
  },
  {
   "cell_type": "code",
   "execution_count": null,
   "id": "4439100d",
   "metadata": {},
   "outputs": [],
   "source": [
    "# Itt is in függvényt használhatjuk, ha meg akarjuk tudni, hogy egy érték benne van-e a list-ben\n",
    "# a in b,   esetén True értéket kapunk, két a benne van a b listában, False különben\n",
    "\n",
    "\"alma\" in my_fruit_list2"
   ]
  },
  {
   "cell_type": "code",
   "execution_count": null,
   "id": "dc8c8c86",
   "metadata": {},
   "outputs": [],
   "source": [
    "my_fruit_list2 = my_fruit_list2 + [[\"alma\", \"dió\"]]\n",
    "my_fruit_list2"
   ]
  },
  {
   "cell_type": "code",
   "execution_count": null,
   "id": "06fdf56d",
   "metadata": {},
   "outputs": [],
   "source": [
    "# Egy lista bármilyen tipusú adatot tárolhat, így listát is. \n",
    "# Épp ezért ha arra vagyunk kíváncsiak, hogy egy lista része-e egy listának, \n",
    "# akkor az alábbi utasítás nem a megfelelő választ, mivel az utasítás azt nézi, hogy a my_fruit_list2 listának van-e olyan \n",
    "#eleme, aminek a tipusa lista, és ez megegyezik-e [\"alma\", \"dió\"] listával. \n",
    "# A my_fruit_list2 lista csak sztringeket tartalmaz, ezért False válasz\n",
    "\n",
    "[\"alma\", \"dió\"] in my_fruit_list2"
   ]
  },
  {
   "cell_type": "code",
   "execution_count": null,
   "id": "0c604435",
   "metadata": {},
   "outputs": [],
   "source": [
    "my_fruit_list = my_fruit_list + [1]"
   ]
  },
  {
   "cell_type": "code",
   "execution_count": null,
   "id": "aee18c39",
   "metadata": {},
   "outputs": [],
   "source": [
    "# A lista elemei a sort() utasítással rendezhetők sorba\n",
    "\n",
    "my_fruit_list.sort()\n",
    "my_fruit_list"
   ]
  },
  {
   "cell_type": "markdown",
   "id": "8a0baedc",
   "metadata": {},
   "source": [
    "# I.5. dict adatstruktúra"
   ]
  },
  {
   "cell_type": "code",
   "execution_count": null,
   "id": "166eb57e",
   "metadata": {},
   "outputs": [],
   "source": [
    "# dict (könyvtár) adatstruktúrát {} zárójelekkel hozunk létre, az alábbi formában\n",
    "# {k:érték} esetében a k-ra a key(), és az értékre a values() függvénnyle tudunk hivatkozni\n",
    "# k a kulcs\n",
    "\n",
    "\n",
    "my_dict = {1:\"Asimov\", 2: \"Clark\", 3: \"Lem\"}"
   ]
  },
  {
   "cell_type": "code",
   "execution_count": null,
   "id": "828043dc",
   "metadata": {},
   "outputs": [],
   "source": [
    "my_dict"
   ]
  },
  {
   "cell_type": "code",
   "execution_count": null,
   "id": "caff0252",
   "metadata": {},
   "outputs": [],
   "source": [
    "type(my_dict)"
   ]
  },
  {
   "cell_type": "code",
   "execution_count": null,
   "id": "ae403977",
   "metadata": {},
   "outputs": [],
   "source": [
    "my_dict.keys()"
   ]
  },
  {
   "cell_type": "code",
   "execution_count": null,
   "id": "c65887b6",
   "metadata": {},
   "outputs": [],
   "source": [
    "list(my_dict.values())[0]"
   ]
  },
  {
   "cell_type": "code",
   "execution_count": null,
   "id": "854843af",
   "metadata": {},
   "outputs": [],
   "source": [
    "len(my_dict)"
   ]
  },
  {
   "cell_type": "code",
   "execution_count": null,
   "id": "36e0aeaa",
   "metadata": {},
   "outputs": [],
   "source": [
    "# Itt a [] zárójelekkel NEM INDEX-et írunk be, hanem valamelyik kulcs értékét \n",
    "\n",
    "my_dict[1], my_dict[2]"
   ]
  },
  {
   "cell_type": "code",
   "execution_count": null,
   "id": "b11355f7",
   "metadata": {},
   "outputs": [],
   "source": [
    "my_dict2 = {\"banán\": 23, \"eper\": 221}"
   ]
  },
  {
   "cell_type": "code",
   "execution_count": null,
   "id": "cc027e2b",
   "metadata": {},
   "outputs": [],
   "source": [
    "my_dict2[0]"
   ]
  },
  {
   "cell_type": "code",
   "execution_count": null,
   "id": "26e9d72e",
   "metadata": {},
   "outputs": [],
   "source": [
    "my_dict2[\"banán\"]"
   ]
  },
  {
   "cell_type": "code",
   "execution_count": null,
   "id": "c04be820",
   "metadata": {},
   "outputs": [],
   "source": [
    "# A dict adatstuktúra esetében új elemet az update() függvénnyel tudunk felvenni\n",
    "# vagy my_dict2[\"dió\"] = 71\n",
    "# Ha már létezik \"dió\" kulcs, akkor az előző utasítások felülírják az adott kulcshoz tartozó értéket,\n",
    "# nem hoz létre új kulcsot\n",
    "\n",
    "my_dict2.update({\"narancs\": 30})\n",
    "my_dict2"
   ]
  },
  {
   "cell_type": "code",
   "execution_count": null,
   "id": "729796af",
   "metadata": {},
   "outputs": [],
   "source": [
    "my_dict2[\"dió\"] = 71\n",
    "my_dict2"
   ]
  },
  {
   "cell_type": "code",
   "execution_count": null,
   "id": "77446337",
   "metadata": {},
   "outputs": [],
   "source": [
    "my_dict2[\"dió\"] = 10\n",
    "my_dict2"
   ]
  },
  {
   "cell_type": "code",
   "execution_count": null,
   "id": "032a7dec",
   "metadata": {},
   "outputs": [],
   "source": [
    "my_dict2.update({\"narancs\": 21})\n",
    "my_dict2"
   ]
  },
  {
   "cell_type": "code",
   "execution_count": null,
   "id": "b933f886",
   "metadata": {},
   "outputs": [],
   "source": [
    "# Egy dict adatsruktúrából del utasítással tudunk törölni egy elemet"
   ]
  },
  {
   "cell_type": "code",
   "execution_count": null,
   "id": "dfbb76f7",
   "metadata": {},
   "outputs": [],
   "source": [
    "del my_dict2[\"narancs\"]\n",
    "my_dict2"
   ]
  },
  {
   "cell_type": "markdown",
   "id": "d1f5ad39",
   "metadata": {},
   "source": [
    "# I.6. set adatstruktúra"
   ]
  },
  {
   "cell_type": "code",
   "execution_count": null,
   "id": "bfd68a82",
   "metadata": {},
   "outputs": [],
   "source": [
    "# A set adathalmazban nincs index, és nem lehet ugyanazt az elemet többszár tárolni"
   ]
  },
  {
   "cell_type": "code",
   "execution_count": null,
   "id": "1ebd9e69",
   "metadata": {},
   "outputs": [],
   "source": [
    "my_set = {\"alma\", \"körte\", \"narancs\"}\n",
    "my_set"
   ]
  },
  {
   "cell_type": "code",
   "execution_count": null,
   "id": "3cef2009",
   "metadata": {},
   "outputs": [],
   "source": [
    "my_set = {\"alma\", \"körte\", \"narancs\", \"narancs\"}\n",
    "my_set"
   ]
  },
  {
   "cell_type": "code",
   "execution_count": null,
   "id": "5bcb2ebe",
   "metadata": {},
   "outputs": [],
   "source": [
    "my_set[1]"
   ]
  },
  {
   "cell_type": "code",
   "execution_count": null,
   "id": "6d3d1141",
   "metadata": {},
   "outputs": [],
   "source": [
    "my_set = {\"alma\", True, 1}"
   ]
  },
  {
   "cell_type": "code",
   "execution_count": null,
   "id": "78872d45",
   "metadata": {},
   "outputs": [],
   "source": [
    "my_set"
   ]
  },
  {
   "cell_type": "code",
   "execution_count": null,
   "id": "483e6496",
   "metadata": {},
   "outputs": [],
   "source": [
    "# Új elemet itt is az update() függvénnyel tudunk hozzáadni\n",
    "# Vigyázzunk!!!\n",
    "# my_set.update(\"körte\") 5 elemmel bővíti a halmazt, az 5 karakterrel\n",
    "# Helyette my_set.update({\"körte\"}) \n",
    "\n",
    "my_set.update(\"körte\")\n",
    "my_set"
   ]
  },
  {
   "cell_type": "code",
   "execution_count": null,
   "id": "26e98b21",
   "metadata": {},
   "outputs": [],
   "source": [
    "my_set.update({\"körte\"})\n",
    "my_set"
   ]
  },
  {
   "cell_type": "code",
   "execution_count": null,
   "id": "028ad5cc",
   "metadata": {},
   "outputs": [],
   "source": [
    "# Törölni egy elemet a remove függvénnyel tudunk\n",
    "# Itt a sztringet nem értelmezi karakternek!"
   ]
  },
  {
   "cell_type": "code",
   "execution_count": null,
   "id": "0a718624",
   "metadata": {},
   "outputs": [],
   "source": [
    "my_set.remove(\"körte\")\n",
    "my_set"
   ]
  },
  {
   "cell_type": "code",
   "execution_count": null,
   "id": "39b0167b",
   "metadata": {},
   "outputs": [],
   "source": [
    "# clear() függvénnyel az egész halmaz tudjuk kiürestíteni\n",
    "\n",
    "my_set.clear()\n",
    "my_set"
   ]
  },
  {
   "cell_type": "code",
   "execution_count": null,
   "id": "21b6fcce",
   "metadata": {},
   "outputs": [],
   "source": [
    "# Halmaz műveletek:\n",
    "# metszet:    set1 & set2\n",
    "# unió:       set1 | set2\n",
    "# különbség:  set1 - set2"
   ]
  },
  {
   "cell_type": "code",
   "execution_count": null,
   "id": "5ef871a3",
   "metadata": {},
   "outputs": [],
   "source": [
    "my_set1 = {\"alma\", \"körte\"}\n",
    "my_set2 = {\"narancs\", \"alma\"}"
   ]
  },
  {
   "cell_type": "code",
   "execution_count": null,
   "id": "bf32e967",
   "metadata": {},
   "outputs": [],
   "source": [
    "print(\"unió: \", my_set1 | my_set2)\n",
    "print(\"metszet: \", my_set1 & my_set2)\n",
    "print(\"különbség: \", my_set1 - my_set2)\n",
    "print(\"részhalmaza?   \", my_set1 in my_set2)"
   ]
  },
  {
   "cell_type": "markdown",
   "id": "e9bf2168",
   "metadata": {},
   "source": [
    "# I.7. Típusok közötti konverzió"
   ]
  },
  {
   "cell_type": "code",
   "execution_count": null,
   "id": "7c34944b",
   "metadata": {},
   "outputs": [],
   "source": [
    "# list, tuple és set adatstruktúrákat a set(), list() és tuple() függvénnyel lehet átkonvertálni\n",
    "\n",
    "my_list = [1, 2,3,4,5]\n",
    "my_tuple = (1, 2,3,4,5)\n",
    "my_set = {1, 2,3,4,5}\n",
    "my_dict = {'alma':11, \"körte\": 23}"
   ]
  },
  {
   "cell_type": "code",
   "execution_count": null,
   "id": "a4ca5b41",
   "metadata": {},
   "outputs": [],
   "source": [
    "my_tuple2 = tuple(my_list)\n",
    "my_tuple2"
   ]
  },
  {
   "cell_type": "code",
   "execution_count": null,
   "id": "cb33c625",
   "metadata": {},
   "outputs": [],
   "source": [
    "my_set2 = set(my_list)\n",
    "my_set2"
   ]
  },
  {
   "cell_type": "code",
   "execution_count": null,
   "id": "5ec0c7e3",
   "metadata": {},
   "outputs": [],
   "source": [
    "my_list2 = list(my_set)\n",
    "my_list2"
   ]
  },
  {
   "cell_type": "code",
   "execution_count": null,
   "id": "2b9082da",
   "metadata": {},
   "outputs": [],
   "source": [
    "my_dict.keys()"
   ]
  },
  {
   "cell_type": "code",
   "execution_count": null,
   "id": "a9b7a47f",
   "metadata": {},
   "outputs": [],
   "source": [
    "my_dict_key_lits = list(my_dict.keys())\n",
    "my_dict_key_lits"
   ]
  },
  {
   "cell_type": "code",
   "execution_count": null,
   "id": "08c98038",
   "metadata": {},
   "outputs": [],
   "source": [
    "my_dict_values_list = list(my_dict.values())\n",
    "my_dict_values_list"
   ]
  },
  {
   "cell_type": "code",
   "execution_count": null,
   "id": "84acf1d6",
   "metadata": {},
   "outputs": [],
   "source": [
    "my_dict_values_set = set(my_dict.values())\n",
    "my_dict_values_set"
   ]
  },
  {
   "cell_type": "markdown",
   "id": "d3115f9c",
   "metadata": {},
   "source": [
    "# II. DataFrame-ek\n",
    "# II.1. Alapok "
   ]
  },
  {
   "cell_type": "code",
   "execution_count": 1,
   "id": "27d1359d",
   "metadata": {},
   "outputs": [],
   "source": [
    "import pandas as pd"
   ]
  },
  {
   "cell_type": "code",
   "execution_count": null,
   "id": "7347241a",
   "metadata": {},
   "outputs": [],
   "source": [
    "# Egy üres DataFrame-et a pd.DataFrame() utasítás hoz létre\n",
    "\n",
    "df = pd.DataFrame()\n",
    "df"
   ]
  },
  {
   "cell_type": "code",
   "execution_count": null,
   "id": "6ff83b24",
   "metadata": {},
   "outputs": [],
   "source": [
    "# Ha nem üres DataFrame-et akarunk létrehozni, akkor a dict és list adatstruktúrák kombinációjával tudunk ilyet létrehozni\n",
    "# A dict adatstruktúrában key-k a tábla mezőnevei, míg az adott mezőben lévő értékek listák. \n",
    "\n",
    "data={'Name':['Karan','Rohit','Sahil','Aryan'],'Age':[23,22,21,24]} # data tipusa dict\n",
    "df = pd.DataFrame(data)\n",
    "df"
   ]
  },
  {
   "cell_type": "code",
   "execution_count": null,
   "id": "3955286b",
   "metadata": {},
   "outputs": [],
   "source": [
    "# A DataFrame koncepciójához jobban illeszkedik a másik megoldás\n",
    "# Az adatbázis tartalmát listákban visszük fel (minden sor egy lista), \n",
    "# majd a dataframe létrehozásánál adjuk meg a mezők neveit\n",
    "\n",
    "data=[['Karan',23],['Rohit',22],['Sahil',21],['Aryan',24]] # data típusa list (ami listák listája)\n",
    "df=pd.DataFrame(data,columns=['Name','Age'])\n",
    "df"
   ]
  },
  {
   "cell_type": "code",
   "execution_count": null,
   "id": "0d25e5da",
   "metadata": {},
   "outputs": [],
   "source": [
    "# Python az összes fontosabb fájl formátumot be tudja olvasni, így: csv, xlsx, json, html, sas, spss, ..."
   ]
  },
  {
   "cell_type": "code",
   "execution_count": 2,
   "id": "ca8c43bf",
   "metadata": {},
   "outputs": [],
   "source": [
    "df1 = pd.read_csv(\"../0_adatok/ELMU_HMKE.csv\", sep=\";\")"
   ]
  },
  {
   "cell_type": "code",
   "execution_count": 3,
   "id": "82a0443f",
   "metadata": {},
   "outputs": [],
   "source": [
    "df2 = pd.read_excel(\"../0_adatok/ELMU_HMKE.xlsx\") "
   ]
  },
  {
   "cell_type": "code",
   "execution_count": 4,
   "id": "53a97a5c",
   "metadata": {},
   "outputs": [
    {
     "data": {
      "text/plain": [
       "((18170, 38), (18170, 37))"
      ]
     },
     "execution_count": 4,
     "metadata": {},
     "output_type": "execute_result"
    }
   ],
   "source": [
    "df1.shape, df2.shape"
   ]
  },
  {
   "cell_type": "code",
   "execution_count": null,
   "id": "00212256",
   "metadata": {},
   "outputs": [],
   "source": [
    "# df.head() az első 5 sor tartalmát jeleníto meg\n",
    "# df.head(25) az első 25 sor tartalmát \n",
    "# df.tail() az utolsó 5 sor tartalmát mutatja meg\n",
    "# df.tail(25) az utolsó 25 sor tartalmát\n",
    "\n",
    "df1.head()"
   ]
  },
  {
   "cell_type": "code",
   "execution_count": null,
   "id": "16aabca5",
   "metadata": {},
   "outputs": [],
   "source": [
    "df2.head()"
   ]
  },
  {
   "cell_type": "code",
   "execution_count": null,
   "id": "8ebcf5b4",
   "metadata": {},
   "outputs": [],
   "source": [
    "df1.tail()"
   ]
  },
  {
   "cell_type": "code",
   "execution_count": null,
   "id": "b4e016c1",
   "metadata": {},
   "outputs": [],
   "source": [
    "# A deafult beállítások kikapcsolahatók a megjelenítésnél, \n",
    "# de akkor figyelni kell később, nehogy az egész táblát jelenítsük meg, mert ha nagy a tábla, a kernel el fog \"szállni\"\n",
    "\n",
    "# Ha minden oszlopot és/vagy sort szeretnénk látni!\n",
    "pd.set_option('display.max_columns', None)\n",
    "pd.set_option('display.max_rows', None)\n",
    "\n",
    "# Ezzel az utasítással visszaállítjuk az eredeti beállítást \n",
    "pd.reset_option(\"display.max_rows\")"
   ]
  },
  {
   "cell_type": "code",
   "execution_count": null,
   "id": "e6e7e544",
   "metadata": {},
   "outputs": [],
   "source": [
    "pd.set_option('display.max_columns', None)\n",
    "df1.head()"
   ]
  },
  {
   "cell_type": "code",
   "execution_count": null,
   "id": "f5543ef9",
   "metadata": {},
   "outputs": [],
   "source": [
    "type(df1)"
   ]
  },
  {
   "cell_type": "code",
   "execution_count": null,
   "id": "cf26300b",
   "metadata": {},
   "outputs": [],
   "source": [
    "# Egy DataFrame-ről az alábbi utasításokkal lehet gyors információkat gyűjteni:\n",
    "# len(df1)      ---- rekordok száma\n",
    "# df1.shape     ---- oszlopok és rekordok száma\n",
    "# df1.dtypes    ---- mezők típusa\n",
    "# df1.info()    ---- mezők típusa, és a nem null értékű sorok száma \n",
    "\n",
    "\n",
    "# print utasításnál ha a kíírásnál sort szeretnénk törni, akkor a f-stringen belül írjuk be a \\n karakter-páros\n",
    "\n",
    "print(\"Rekordok száma (len): \",len(df1))\n",
    "print(\"Rekordok és oszlopok száma (shape): \", df1.shape)\n",
    "print(f'Mezők típusa \\n \\n', df1.dtypes)"
   ]
  },
  {
   "cell_type": "code",
   "execution_count": null,
   "id": "16941d3e",
   "metadata": {},
   "outputs": [],
   "source": [
    "df1.info()"
   ]
  },
  {
   "cell_type": "code",
   "execution_count": null,
   "id": "d0647f3d",
   "metadata": {},
   "outputs": [],
   "source": [
    "# Numerikus mezőkről gyors statisztika a describe() függvénnyel kérdezhető le\n",
    "# df1.describe()\n",
    "\n",
    "df1.describe()"
   ]
  },
  {
   "cell_type": "code",
   "execution_count": null,
   "id": "af6c46d5",
   "metadata": {},
   "outputs": [],
   "source": [
    "# Mezőre hivatkozás\n",
    "# df1[\"Vállalat\"] vagy df1.Vállalat\n",
    "\n",
    "df1[\"Vállalat\"]"
   ]
  },
  {
   "cell_type": "code",
   "execution_count": null,
   "id": "a6bd9010",
   "metadata": {},
   "outputs": [],
   "source": [
    "df1.Vállalat"
   ]
  },
  {
   "cell_type": "code",
   "execution_count": null,
   "id": "c41b85b2",
   "metadata": {},
   "outputs": [],
   "source": [
    "type(df1[\"Vállalat\"])"
   ]
  },
  {
   "cell_type": "code",
   "execution_count": null,
   "id": "2d7fad7d",
   "metadata": {},
   "outputs": [],
   "source": [
    "df1[\"Vállalat\"].head()"
   ]
  },
  {
   "cell_type": "code",
   "execution_count": null,
   "id": "ce4553f2",
   "metadata": {},
   "outputs": [],
   "source": [
    "# Series adatsrtuktúra egy 1 dimenziós tömb. Nincs mezőnév. "
   ]
  },
  {
   "cell_type": "code",
   "execution_count": null,
   "id": "0a8be4dc",
   "metadata": {},
   "outputs": [],
   "source": [
    "# Ha egy mezőnévre hivatkozunk, akkor series tömböt kapunk, \n",
    "# Ha listát adunk meg, akkor egy új dataframe-et kapunk\n",
    "\n",
    "df1[[\"Vállalat\"]].head()"
   ]
  },
  {
   "cell_type": "code",
   "execution_count": null,
   "id": "c34ac1bc",
   "metadata": {},
   "outputs": [],
   "source": [
    "type(df1[[\"Vállalat\"]])"
   ]
  },
  {
   "cell_type": "code",
   "execution_count": null,
   "id": "c22a5d32",
   "metadata": {},
   "outputs": [],
   "source": [
    "df1.columns"
   ]
  },
  {
   "cell_type": "code",
   "execution_count": null,
   "id": "2645cabb",
   "metadata": {},
   "outputs": [],
   "source": [
    "# df1.columns tipusa nem list, hanem Index, de ugyanazokat a lista műveletek többsége működik ezen az adattipuson is\n",
    "\n",
    "type(df1.columns)"
   ]
  },
  {
   "cell_type": "code",
   "execution_count": null,
   "id": "876e669d",
   "metadata": {},
   "outputs": [],
   "source": [
    "df1.columns[0]"
   ]
  },
  {
   "cell_type": "code",
   "execution_count": null,
   "id": "98f88e5f",
   "metadata": {},
   "outputs": [],
   "source": [
    "# Kategória mezőről a df1[\"Vállalat\"].value_count() számolja ki ez értékek eloszlását\n",
    "\n",
    "df1[\"Régió\"].value_counts()"
   ]
  },
  {
   "cell_type": "markdown",
   "id": "574c761c",
   "metadata": {},
   "source": [
    "# II.2. Sorok és oszlopok leválogatása"
   ]
  },
  {
   "cell_type": "code",
   "execution_count": null,
   "id": "eaf08448",
   "metadata": {},
   "outputs": [],
   "source": [
    "df1.columns"
   ]
  },
  {
   "cell_type": "code",
   "execution_count": null,
   "id": "9951226f",
   "metadata": {},
   "outputs": [],
   "source": [
    "szurt_mezok = ['Régió', 'Munkalap', 'Munkafoly.', 'Státusz']\n",
    "df1_filter = df1[szurt_mezok]\n",
    "df1_filter.head()"
   ]
  },
  {
   "cell_type": "code",
   "execution_count": null,
   "id": "79c6438c",
   "metadata": {},
   "outputs": [],
   "source": [
    "# loc függvényben megadhatjuk numerikusan, hogy mely sorokat szertenénk leválogatni, és \n",
    "# mely mezőket szeretnénk leválogatni"
   ]
  },
  {
   "cell_type": "code",
   "execution_count": null,
   "id": "4baba4ca",
   "metadata": {},
   "outputs": [],
   "source": [
    "df1_filter.loc[0, 'Munkalap']"
   ]
  },
  {
   "cell_type": "code",
   "execution_count": null,
   "id": "a3ec5d6f",
   "metadata": {},
   "outputs": [],
   "source": [
    "# A korábbi indexeléssel szemben, itt az index UTOLSÓ ÉRTÉKE IS MEGJELENIK!\n",
    "\n",
    "df1_filter.loc[0:3, 'Munkalap']"
   ]
  },
  {
   "cell_type": "code",
   "execution_count": null,
   "id": "e9705262",
   "metadata": {},
   "outputs": [],
   "source": [
    "my_list = [0, 1, 2, 3, 4, 5, 6, 7, 8, 9, 10]\n",
    "my_list[0:3]"
   ]
  },
  {
   "cell_type": "code",
   "execution_count": null,
   "id": "18584c96",
   "metadata": {},
   "outputs": [],
   "source": [
    "# Oszlop nevek közt is lehet egy részintervallumot megadni \"fld1\":\"fld2\" paraméterezéssel\n",
    "\n",
    "df1_filter.loc[0:3, 'Munkalap': 'Státusz']"
   ]
  },
  {
   "cell_type": "code",
   "execution_count": null,
   "id": "440aa689",
   "metadata": {},
   "outputs": [],
   "source": [
    "df1_filter.head()"
   ]
  },
  {
   "cell_type": "code",
   "execution_count": null,
   "id": "219ca75b",
   "metadata": {},
   "outputs": [],
   "source": [
    "# A leválogatás paramétereit listában is megadhatjuk\n",
    "\n",
    "df1_filter.loc[ [1,5,6] ,['Munkalap', \"Régió\"]]"
   ]
  },
  {
   "cell_type": "code",
   "execution_count": null,
   "id": "cfe1e365",
   "metadata": {},
   "outputs": [],
   "source": [
    "df1_filter.head()"
   ]
  },
  {
   "cell_type": "code",
   "execution_count": null,
   "id": "f76cec20",
   "metadata": {},
   "outputs": [],
   "source": [
    "df1_filter.columns"
   ]
  },
  {
   "cell_type": "code",
   "execution_count": null,
   "id": "6202feb3",
   "metadata": {},
   "outputs": [],
   "source": [
    "df1_filter.columns[0:2]"
   ]
  },
  {
   "cell_type": "code",
   "execution_count": null,
   "id": "ad55bf6e",
   "metadata": {},
   "outputs": [],
   "source": [
    "# iloc függvényben a mezőnevekre is index-ként kell hivatkozni\n",
    "# Vegyük észre, hogy itt az indexek úgy viselkednek, mint azt korábban tapasztaltuk\n",
    "# Utolsónak megadott index nem kerül be a leválogatásba\n",
    "\n",
    "df1_filter.iloc[0:3, 0:2]"
   ]
  },
  {
   "cell_type": "code",
   "execution_count": null,
   "id": "040f493b",
   "metadata": {},
   "outputs": [],
   "source": [
    "# loc függvény segítségével le tudunk válogatni sorokat, amelyek bizonyos feltételnek megfelelnek\n",
    "\n",
    "df1_filter.loc[(df1_filter[\"Régió\"] == 'DP') & (df1_filter[\"Státusz\"] == 'ELVEGZ_KP')]"
   ]
  },
  {
   "cell_type": "code",
   "execution_count": null,
   "id": "e651868c",
   "metadata": {},
   "outputs": [],
   "source": [
    "# DE!\n",
    "# loc függvény nélkül is elvégezhető ugyanez a leválogatás\n",
    "\n",
    "df1_filter[(df1_filter[\"Régió\"] != 'DP') & (df1_filter[\"Státusz\"] == 'ELVEGZ_KP')]"
   ]
  },
  {
   "cell_type": "code",
   "execution_count": null,
   "id": "dccdb2a8",
   "metadata": {},
   "outputs": [],
   "source": [
    "df1_filter[\"Régió\"].value_counts()"
   ]
  },
  {
   "cell_type": "code",
   "execution_count": null,
   "id": "a5eb56bb",
   "metadata": {},
   "outputs": [],
   "source": [
    "regio_list = list(df1_filter[\"Régió\"].unique())\n",
    "regio_list"
   ]
  },
  {
   "cell_type": "code",
   "execution_count": null,
   "id": "227c53ac",
   "metadata": {},
   "outputs": [],
   "source": [
    "\"DP\" in regio_list"
   ]
  },
  {
   "cell_type": "code",
   "execution_count": null,
   "id": "45de8acb",
   "metadata": {},
   "outputs": [],
   "source": [
    "\"KK\" in regio_list"
   ]
  },
  {
   "cell_type": "code",
   "execution_count": null,
   "id": "df4afea5",
   "metadata": {},
   "outputs": [],
   "source": [
    "# Bizonyos műveleteket máshogy kell megírni, amikor DataFrame műveleteket hajtunk végre\n",
    "# Ha azokat a sorokat szeretnénk leválogatni, ahol egy mező értéke egy előre megadott listában van, \n",
    "# akkor az \"DB\" in value_list me, ,űködik. \n",
    "# isin(value_list) formátumot kell alkalmazni\n",
    " \n",
    "df2 = df1_filter[df1_filter['Régió'].isin(['DP','DB'])]"
   ]
  },
  {
   "cell_type": "code",
   "execution_count": null,
   "id": "7501d478",
   "metadata": {},
   "outputs": [],
   "source": [
    "df2[\"Régió\"].value_counts()"
   ]
  },
  {
   "cell_type": "code",
   "execution_count": null,
   "id": "3442d4ed",
   "metadata": {},
   "outputs": [],
   "source": [
    "df2.head()"
   ]
  },
  {
   "cell_type": "code",
   "execution_count": null,
   "id": "d9995ab9",
   "metadata": {},
   "outputs": [],
   "source": [
    "df1_filter[df1_filter['Régió'].isin(['DP','DB'])][ [\"Régió\"] ]"
   ]
  },
  {
   "cell_type": "markdown",
   "id": "1d6b30a6",
   "metadata": {},
   "source": [
    "# II.3. Új mező létrehozása, meglévő törlése"
   ]
  },
  {
   "cell_type": "code",
   "execution_count": null,
   "id": "95b8d902",
   "metadata": {},
   "outputs": [],
   "source": [
    "df1_filter.head()"
   ]
  },
  {
   "cell_type": "code",
   "execution_count": null,
   "id": "044bdc29",
   "metadata": {},
   "outputs": [],
   "source": [
    "# Új mező létrehozásánál meg kell adni az új mező nevét az egyenlőség bal oldalán, \n",
    "# és a jobb oldalán kell megadni a szabályokat"
   ]
  },
  {
   "cell_type": "code",
   "execution_count": null,
   "id": "50e72970",
   "metadata": {},
   "outputs": [],
   "source": [
    "df1_filter[\"fix\"] = 3"
   ]
  },
  {
   "cell_type": "code",
   "execution_count": null,
   "id": "45c617bc",
   "metadata": {},
   "outputs": [],
   "source": [
    "df1_filter[\"fix\"] = 3"
   ]
  },
  {
   "cell_type": "code",
   "execution_count": null,
   "id": "e0f3f29a",
   "metadata": {},
   "outputs": [],
   "source": [
    "df1_filter.head()"
   ]
  },
  {
   "cell_type": "code",
   "execution_count": null,
   "id": "cb8c5326",
   "metadata": {},
   "outputs": [],
   "source": [
    "# Eredetileg így hoztuk létre a df1_filter dataframe-t\n",
    "df1_filter = df1[szurt_mezok]\n",
    "\n",
    "# Helyett érdemes copy() függvénnyel létrehozni \n",
    "df1_filter = df1[szurt_mezok].copy()"
   ]
  },
  {
   "cell_type": "code",
   "execution_count": null,
   "id": "b4d2ba6d",
   "metadata": {},
   "outputs": [],
   "source": [
    "df1_filter[\"fix\"] = 3"
   ]
  },
  {
   "cell_type": "code",
   "execution_count": null,
   "id": "58e84277",
   "metadata": {},
   "outputs": [],
   "source": [
    "del df1_filter[\"fix\"]"
   ]
  },
  {
   "cell_type": "code",
   "execution_count": null,
   "id": "b946f6c5",
   "metadata": {},
   "outputs": [],
   "source": [
    "# Amennyiben szeretnénk megőrizni az eredeti táblát, érdemes másolaton dolgozni\n",
    "\n",
    "df2 = df1.copy()"
   ]
  },
  {
   "cell_type": "code",
   "execution_count": null,
   "id": "65188f71",
   "metadata": {},
   "outputs": [],
   "source": [
    "df2[\"uj_mezo\"] = \"ok\""
   ]
  },
  {
   "cell_type": "markdown",
   "id": "36216be4",
   "metadata": {},
   "source": [
    "# II.4. Új rekord létrehozása"
   ]
  },
  {
   "cell_type": "code",
   "execution_count": null,
   "id": "7385efca",
   "metadata": {},
   "outputs": [],
   "source": [
    "df1_filter2 = df1_filter.copy()"
   ]
  },
  {
   "cell_type": "code",
   "execution_count": null,
   "id": "0c1081c8",
   "metadata": {},
   "outputs": [],
   "source": [
    "df1_filter2.head()"
   ]
  },
  {
   "cell_type": "code",
   "execution_count": null,
   "id": "80419425",
   "metadata": {},
   "outputs": [],
   "source": [
    "my_dict = {\"Régió\": \"DP\", \"Munkalap\": 23421260002442, \"Munkafoly.\": 127, \"Státusz\": \"ELVEGZ_KP\"}"
   ]
  },
  {
   "cell_type": "code",
   "execution_count": null,
   "id": "18f6580f",
   "metadata": {},
   "outputs": [],
   "source": [
    "my_dict"
   ]
  },
  {
   "cell_type": "code",
   "execution_count": null,
   "id": "9bdce224",
   "metadata": {},
   "outputs": [],
   "source": [
    "# Új sort létre lehet hozni dict és list kombinácójából\n",
    "# Először létre kell hozni egy dict objektumot, mely felveszi a DataFrame mező neveit és tartalmazza az új sor értékeit\n",
    "# Utána a dict objektumot be kell tenni egy list objektumba\n",
    "# Ebből létrehozunk új sort, a lenti módon\n",
    "# és a concat függvénnyel hozzárakjuk a meglévő táblához\n",
    "\n",
    "uj_sor = pd.DataFrame([my_dict])\n",
    "df1_filter2 = pd.concat([df1_filter2, uj_sor], axis=0)"
   ]
  },
  {
   "cell_type": "code",
   "execution_count": null,
   "id": "abd6fe3f",
   "metadata": {},
   "outputs": [],
   "source": [
    "# Egyszerűbb és elegánsabb megoldás, ha loc függvényt alkalmazzuk a -1 pozícióra\n",
    "# df.loc[-1] = [mező1_érték, mező2_érték, ....]\n",
    "\n",
    "df1_filter2.loc[-1] = [\"ÉP\", 23621260027080, 127, \"ELVEGZ_KP\"]\n",
    "df1_filter2.tail()"
   ]
  },
  {
   "cell_type": "code",
   "execution_count": null,
   "id": "aaec792c",
   "metadata": {},
   "outputs": [],
   "source": [
    "# indexek újrakiosztása\n",
    "\n",
    "df1_filter2 = df1_filter2.reset_index(drop=True)\n",
    "df1_filter2.head()"
   ]
  },
  {
   "cell_type": "markdown",
   "id": "272062c1",
   "metadata": {},
   "source": [
    "# II.5. Oszlopok típusának megváltoztatása"
   ]
  },
  {
   "cell_type": "code",
   "execution_count": null,
   "id": "95ffe4a4",
   "metadata": {},
   "outputs": [],
   "source": [
    "a = 5\n",
    "type(a)"
   ]
  },
  {
   "cell_type": "code",
   "execution_count": null,
   "id": "0eb6f032",
   "metadata": {},
   "outputs": [],
   "source": [
    "a = \"Hello\"\n",
    "type(a)"
   ]
  },
  {
   "cell_type": "code",
   "execution_count": null,
   "id": "01fe8050",
   "metadata": {},
   "outputs": [],
   "source": [
    "df1_filter2.dtypes"
   ]
  },
  {
   "cell_type": "code",
   "execution_count": null,
   "id": "c00fbb47",
   "metadata": {},
   "outputs": [],
   "source": [
    "# Egy mező típusát az astype utasítással lehet\n",
    "# df[field] = df[field].astype(str, int, float)"
   ]
  },
  {
   "cell_type": "code",
   "execution_count": null,
   "id": "03ecb961",
   "metadata": {},
   "outputs": [],
   "source": [
    "df1_filter2[\"Munkalap\"] = df1_filter2[\"Munkalap\"].astype(str)"
   ]
  },
  {
   "cell_type": "code",
   "execution_count": null,
   "id": "97f0a58b",
   "metadata": {},
   "outputs": [],
   "source": [
    "df1_filter2.dtypes"
   ]
  },
  {
   "cell_type": "code",
   "execution_count": null,
   "id": "92ee71c3",
   "metadata": {},
   "outputs": [],
   "source": [
    "df1_filter2.head()"
   ]
  },
  {
   "cell_type": "code",
   "execution_count": null,
   "id": "f9939748",
   "metadata": {},
   "outputs": [],
   "source": [
    "# Dátum formátumra hozás esetében \n",
    "# df[\"date_fld\"] = pd.to_datetime(df[\"date_fld\"])  \n",
    "# Miután a mező dátum tipusra lett hozva tetszólege formátum állítható be\n",
    "# df[\"date_fld\"] = df[\"date_fld\"].dt.strftime('%Y-%m-%d')"
   ]
  },
  {
   "cell_type": "code",
   "execution_count": null,
   "id": "602a386a",
   "metadata": {},
   "outputs": [],
   "source": [
    "df1.head()"
   ]
  },
  {
   "cell_type": "code",
   "execution_count": null,
   "id": "ae013859",
   "metadata": {},
   "outputs": [],
   "source": [
    "df1.dtypes"
   ]
  },
  {
   "cell_type": "code",
   "execution_count": null,
   "id": "233c7fa8",
   "metadata": {},
   "outputs": [],
   "source": [
    "df1[\"Igény beérkezés\"] = pd.to_datetime(df1[\"Igény beérkezés\"])"
   ]
  },
  {
   "cell_type": "code",
   "execution_count": null,
   "id": "6ad99289",
   "metadata": {},
   "outputs": [],
   "source": [
    "f1[df1[\"Igény beérkezés\"] == \"#HIÁNYZIK\"] "
   ]
  },
  {
   "cell_type": "code",
   "execution_count": null,
   "id": "f67152c5",
   "metadata": {},
   "outputs": [],
   "source": [
    "df1szurt = df1[df1[\"Igény beérkezés\"] != \"#HIÁNYZIK\"].copy()"
   ]
  },
  {
   "cell_type": "code",
   "execution_count": null,
   "id": "92e4678f",
   "metadata": {},
   "outputs": [],
   "source": [
    "df1szurt.shape, df1.shape"
   ]
  },
  {
   "cell_type": "code",
   "execution_count": null,
   "id": "fa5f6865",
   "metadata": {},
   "outputs": [],
   "source": [
    "# Most az eredetileg object (str) típusból dátum formátumra hoztuk\n",
    "df1szurt[\"Igény beérkezés\"] = pd.to_datetime(df1szurt[\"Igény beérkezés\"])"
   ]
  },
  {
   "cell_type": "code",
   "execution_count": null,
   "id": "48bd2907",
   "metadata": {},
   "outputs": [],
   "source": [
    "df1szurt.dtypes"
   ]
  },
  {
   "cell_type": "code",
   "execution_count": null,
   "id": "2e3e1399",
   "metadata": {},
   "outputs": [],
   "source": [
    "# YYYY-MM-DD formátumra hozzuk\n",
    "\n",
    "df1szurt[\"Igény beérkezés\"] = df1szurt[\"Igény beérkezés\"].dt.strftime('%Y-%m-%d')"
   ]
  },
  {
   "cell_type": "code",
   "execution_count": null,
   "id": "d93ef7bc",
   "metadata": {},
   "outputs": [],
   "source": [
    "df1szurt[[\"Igény beérkezés\"]].head()"
   ]
  },
  {
   "cell_type": "code",
   "execution_count": null,
   "id": "96723696",
   "metadata": {},
   "outputs": [],
   "source": [
    "df1.dtypes"
   ]
  },
  {
   "cell_type": "code",
   "execution_count": null,
   "id": "0d6a2cd2",
   "metadata": {},
   "outputs": [],
   "source": [
    "df = pd.DataFrame({'Nike' : [[1,5,198,0,0,35],[0.5,0.3]]},index = ['count','floats'])"
   ]
  },
  {
   "cell_type": "code",
   "execution_count": null,
   "id": "42f9d210",
   "metadata": {},
   "outputs": [],
   "source": [
    "df"
   ]
  },
  {
   "cell_type": "code",
   "execution_count": null,
   "id": "bbdf4a55",
   "metadata": {},
   "outputs": [],
   "source": [
    "df.dtypes"
   ]
  },
  {
   "cell_type": "code",
   "execution_count": null,
   "id": "4c058b73",
   "metadata": {},
   "outputs": [],
   "source": []
  }
 ],
 "metadata": {
  "kernelspec": {
   "display_name": "Python 3 (ipykernel)",
   "language": "python",
   "name": "python3"
  },
  "language_info": {
   "codemirror_mode": {
    "name": "ipython",
    "version": 3
   },
   "file_extension": ".py",
   "mimetype": "text/x-python",
   "name": "python",
   "nbconvert_exporter": "python",
   "pygments_lexer": "ipython3",
   "version": "3.9.19"
  }
 },
 "nbformat": 4,
 "nbformat_minor": 5
}
